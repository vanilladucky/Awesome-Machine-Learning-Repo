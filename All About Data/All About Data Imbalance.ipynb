{
 "cells": [
  {
   "cell_type": "code",
   "execution_count": 1,
   "metadata": {},
   "outputs": [],
   "source": [
    "import numpy as np \n",
    "import pandas as pd \n",
    "import matplotlib.pyplot as plt"
   ]
  },
  {
   "cell_type": "markdown",
   "metadata": {},
   "source": [
    "# Welcome to a full guide on Data Imbalance!"
   ]
  },
  {
   "cell_type": "markdown",
   "metadata": {},
   "source": [
    "#### If you have played around with any sort of machine learning challenges or tasks in the real world, I am very sure you are more likely to run into datasets that are highly imbalanced than perfectly balanced ones. \n",
    "#### This is why many experts say that for machine learning tasks, majority of the job done is for data cleaning. \n",
    "#### Data imbalance is a crucial fault to spot out as it can result in highly skewed results if left unattended. \n",
    "#### In my previous research, I also faced a highly skewed binary dataset, where the ratio was about 4:1. Faced with a highly skewed dataset, I had to employ a lot of strategies to mitigate this observation. \n",
    "#### In this guide, I will walk you through some of the options you could take to combat against data imbalance\n",
    "#### Let's dive in then, shall we? "
   ]
  },
  {
   "cell_type": "markdown",
   "metadata": {},
   "source": [
    "<div style=\"width:100%;text-align: center;\"> <img align=middle src=\"https://images.unsplash.com/photo-1523801999971-dbb0cc4f400e?w=500&auto=format&fit=crop&q=60&ixlib=rb-4.0.3&ixid=M3wxMjA3fDB8MHxzZWFyY2h8OHx8ZGl2ZSUyMGlufGVufDB8fDB8fHwy\" style=\"width:25%;height:25%;margin:auto;\"> </div>\n",
    "<h5><center>Image from <a href=\"https://unsplash.com/s/photos/dive-in\">unsplash</a></center></h5>"
   ]
  },
  {
   "cell_type": "markdown",
   "metadata": {},
   "source": [
    "# 1. Introduction"
   ]
  },
  {
   "cell_type": "markdown",
   "metadata": {},
   "source": [
    "#### Data imbalance is a phenomenon for classification problems where the distribution of data points amongst classes are not equal. \n",
    "#### For example, income distribution in society is a highly imbalanced distribution where there are very few people in the upper portion of the distribution while there are a bigger group in the lower portions. \n",
    "#### In real life, data imbalance is a common observation. But in machine learning tasks, this can be a huge headache for engineers & scientists.  "
   ]
  },
  {
   "cell_type": "markdown",
   "metadata": {},
   "source": [
    "#### Let me give you an example where data imbalance can bring detrimental results. \n",
    "#### Loan approval tasks is a common machine learning task and a very approach one too, where huge datasets can be found on Kaggle. \n",
    "#### Let's say for instance, the dataset contains 90% of race A and 10% of race B people. \n",
    "#### Assume that for reasons such as wealth distribution and geographical location, race A people have a higher approval rate. \n",
    "#### The under representation of race B will worsen the scenario for their loan approval where they may suffer from higher rate of loan disapproval not because of their credit-worthiness, but due to the fact that the data is imbalanced. \n",
    "#### These are just some scenarios that can have a huge ripple effect in society and even affect individual lives if imbalanced datasets are not paid enough attention. \n",
    "#### Thankfully, there are a few options we can deploy to combat this phenomenon. "
   ]
  },
  {
   "cell_type": "markdown",
   "metadata": {},
   "source": [
    "# 2. Methods to combat data imbalance"
   ]
  },
  {
   "cell_type": "markdown",
   "metadata": {},
   "source": [
    "## 2.1 Using the right evaluation metric"
   ]
  },
  {
   "cell_type": "markdown",
   "metadata": {},
   "source": [
    "#### This is probably the first thing that I believe everyone faced with a machine learning task should think about. \n",
    "#### What is the most suitable evaluation metric to choose. I will talk more about evaluation metrics in another guide. \n",
    "#### With an imbalanced dataset, there are several evaluation metrics you can choose from in order to mitigate the imbalanced nature of the data. \n",
    "#### For example, with a 1% scam rate in a scam or not scam dataset, if your machine learning algorithm yields a 99% **accuracy**, it probably does not mean much. \n",
    "#### This is because a simple algorithm such as labelling everything as not being scam would already yield a 99% accuracy, due to the highly imbalanced nature of the dataset. \n",
    "#### Thus, in this case, accuracy is clearly the worst metric to use. \n",
    "#### Now, some of the more useful metrics we can use in these scenarios include"
   ]
  },
  {
   "cell_type": "markdown",
   "metadata": {},
   "source": [
    "##### - Precision/Specificity/Recall/Sensitivity\n",
    "##### - F1 score \n",
    "##### - AUC"
   ]
  },
  {
   "cell_type": "markdown",
   "metadata": {},
   "source": [
    "### 2.1.1 Precision/Specificity/Recall/Sensitivity"
   ]
  },
  {
   "cell_type": "markdown",
   "metadata": {},
   "source": [
    "$$\\LARGE Precision = \\frac{True \\: Positives}{True \\: Positives + False \\: Positives}$$\n",
    "$$\\LARGE Specificity = \\frac{True\\:Negatives}{True\\:Negatives + False \\: Positives}$$"
   ]
  },
  {
   "cell_type": "markdown",
   "metadata": {},
   "source": [
    "#### Precision accounts for the accuracy of positive predictions while Specificity accounts for how well the algorithm avoids false positives, or false alarms. "
   ]
  }
 ],
 "metadata": {
  "kernelspec": {
   "display_name": "Python 3.11.7 ('machine_deep_learning')",
   "language": "python",
   "name": "python3"
  },
  "language_info": {
   "codemirror_mode": {
    "name": "ipython",
    "version": 3
   },
   "file_extension": ".py",
   "mimetype": "text/x-python",
   "name": "python",
   "nbconvert_exporter": "python",
   "pygments_lexer": "ipython3",
   "version": "3.11.7"
  },
  "orig_nbformat": 4,
  "vscode": {
   "interpreter": {
    "hash": "a01aa30e7cb9fc7776677534e11c9ab1eed0bfffb3501a39ef7b976f9557b493"
   }
  }
 },
 "nbformat": 4,
 "nbformat_minor": 2
}
