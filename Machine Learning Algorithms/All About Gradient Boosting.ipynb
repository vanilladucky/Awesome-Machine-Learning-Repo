{
 "cells": [
  {
   "cell_type": "code",
   "execution_count": 1,
   "metadata": {},
   "outputs": [],
   "source": [
    "import numpy as np \n",
    "import pandas as pd \n",
    "import warnings\n",
    "warnings.filterwarnings(\"ignore\")"
   ]
  },
  {
   "cell_type": "markdown",
   "metadata": {},
   "source": [
    "# Welcome to a guide on Gradient Boosting ⚡️"
   ]
  },
  {
   "cell_type": "markdown",
   "metadata": {},
   "source": [
    "### Gradient Boosting is one of the most powerful options out there for a machine learning algorithm and its powers really shows when utilizing tabular data.\n",
    "### It does not fear of any non-linearity in the data or any categorial variables as it is able to deal with it just fine.\n",
    "### These days, there are readily available models such as XGBoost and LightGBM which you can just call on with a few simple lines of code. \n",
    "### However, in the long run, it definitely pays to thoroughly understand the foundation of this algorithm before you blindly use it. \n",
    "### In this guide, I will walk you through the concept of Gradient Boosting, the mathematics behind it and make sure you fully grasp its concept."
   ]
  },
  {
   "cell_type": "markdown",
   "metadata": {},
   "source": [
    "## Let's dive in, shall we? "
   ]
  },
  {
   "cell_type": "markdown",
   "metadata": {},
   "source": [
    "<div style=\"width:100%;text-align: center;\"> <img align=middle src=\"https://images.unsplash.com/photo-1682687982049-b3d433368cd1?q=80&w=2671&auto=format&fit=crop&ixlib=rb-4.0.3&ixid=M3wxMjA3fDB8MHxwaG90by1wYWdlfHx8fGVufDB8fHx8fA%3D%3D\" style=\"width:50%;height:50%;margin:auto;\"> </div>\n",
    "<h5><center>Image from <a href=\"https://unsplash.com/s/photos/dive-in\">unsplash</a></center></h5>"
   ]
  },
  {
   "cell_type": "markdown",
   "metadata": {},
   "source": [
    "# 1. Introduction"
   ]
  },
  {
   "cell_type": "markdown",
   "metadata": {},
   "source": [
    "#### Gradient Boosting is a pretty interesting algorithm in the sense that the technique, Gradient Descent, used widely in Deep Learning, is also applied to this very algorithm.\n",
    "#### The whole concept of Gradient Boosting is about using multiple weak models and combining them to create one powerful model that works to build on the mistake of its other previous models.\n",
    "#### Once you understand the mathematical concept behind this, trust me, you will get to see the true beauty of the simplicity behind this model's approach."
   ]
  },
  {
   "cell_type": "markdown",
   "metadata": {},
   "source": [
    "# 2. Math"
   ]
  },
  {
   "cell_type": "markdown",
   "metadata": {},
   "source": [
    "<div style=\"width:100%;text-align: center;\"> <img align=middle src=\"https://miro.medium.com/v2/resize:fit:1400/1*dIHrPFBT2fmXuTXMb-3_Xw.png\" style=\"width:50%;height:50%;margin:auto;\"> </div>\n",
    "<h5><center>Image from TDS</center></h5>"
   ]
  },
  {
   "cell_type": "markdown",
   "metadata": {},
   "source": [
    "#### This is the whole Gradient Boosting Algorithm! If you can understand this in one go, I would say you are a math genius.\n",
    "#### But for the rest of us more 'normal' people, let me break this down for you. \n",
    "#### Fret not, because once all these lines are explained, you'll see why everyone is talking about Gradient Boosting and its powers. "
   ]
  },
  {
   "cell_type": "markdown",
   "metadata": {},
   "source": [
    "## Step 1. Initialize the model with a constant value"
   ]
  },
  {
   "cell_type": "markdown",
   "metadata": {},
   "source": [
    "$$\\LARGE F_0(x) =  argmin_\\gamma \\sum_{i=1}^{n}L(y_i, \\gamma) $$"
   ]
  },
  {
   "cell_type": "markdown",
   "metadata": {},
   "source": [
    "#### The first initializing step is to find an initial constant value prediction $ F_0(x) $\n",
    "#### Of course, this is just our initial prediction so it will look like a disastrous prediction, but let's be patient and see where it goes.\n",
    "#### Forget about the left hand side for now, and let's look at the right hand side."
   ]
  },
  {
   "cell_type": "markdown",
   "metadata": {},
   "source": [
    "#### The right hand side talks about a $\\gamma$ value that will minimize $\\sum_{i=1}^{n}L(y_i, \\gamma)$.\n",
    "#### To do this, let's take squared loss as our loss function and apply some differentiation"
   ]
  },
  {
   "cell_type": "markdown",
   "metadata": {},
   "source": [
    "$$\\LARGE \\frac{\\partial}{\\partial\\gamma} \\sum_{i=1}^{n}L(y_i, \\gamma)  =  \\frac{\\partial}{\\partial\\gamma} \\sum_{i=1}^{n}(y_i-\\gamma)^2$$\n",
    "$$\\LARGE = -2 \\sum_{i=1}^{n} (y_i-\\gamma) $$\n",
    "$$\\LARGE = -2 \\sum_{i=1}^{n}y_i + 2n\\gamma$$"
   ]
  },
  {
   "cell_type": "markdown",
   "metadata": {},
   "source": [
    "#### As we are finding $\\gamma$ that minimizes $\\sum_{i=1}^{n}L(y_i, \\gamma)$, we have to make $\\frac{\\partial}{\\partial\\gamma} \\sum_{i=1}^{n}L(y_i, \\gamma)=0$"
   ]
  },
  {
   "cell_type": "markdown",
   "metadata": {},
   "source": [
    "$$\\LARGE -2 \\sum_{i=1}^{n}y_i + 2n\\gamma = 0$$\n",
    "$$\\LARGE n\\gamma = \\sum_{i=1}^{n}y_i$$\n",
    "$$\\LARGE \\gamma = \\frac{1}{n} \\sum_{i=1}^{n}y_i = \\overline{y}$$"
   ]
  },
  {
   "cell_type": "markdown",
   "metadata": {},
   "source": [
    "#### All this while, we were looking for the $\\gamma$ and here we found it!\n",
    "#### In the end, it was just a simple average of the y values.\n",
    "$$\\LARGE F_0(x) = \\overline{y}$$"
   ]
  },
  {
   "cell_type": "markdown",
   "metadata": {},
   "source": [
    "## Step 2. Looping for M times\n",
    "#### After initializing our prediction, we will loop through M times where M denotes the number of trees we will be creating for this Gradient Boosting algorithm."
   ]
  },
  {
   "cell_type": "markdown",
   "metadata": {},
   "source": [
    "### 2.1 Computing residuals\n",
    "#### Now this might sound strange.\n"
   ]
  },
  {
   "cell_type": "markdown",
   "metadata": {},
   "source": [
    "<h1><center><i>\"What's a residual suddenly...?\"</i></center></h1>"
   ]
  },
  {
   "cell_type": "markdown",
   "metadata": {},
   "source": [
    "#### I recommend you to ignore the term 'residual' for now but instead focus on the right hand side of the equation. \n",
    "#### The right hand side is basically partially differentiating the loss between the y value and the previous prediction with respect to the previous prediction.\n",
    "#### For those of you who feel like this is a familiar equation, with the negative sign at the front, you probably have seen something similar for gradient descent in a neural network of sorts. \n",
    "#### This step is providing us the direction and magnitude in which we can take to minimize the loss function, for each sample $i$.\n",
    "#### Let's solve the right hand side of the equation."
   ]
  },
  {
   "cell_type": "markdown",
   "metadata": {},
   "source": [
    "$$\\LARGE -[\\frac{\\partial L(y_i, F(x_i))}{\\partial F(x_i)}]_{F(x) = F_{m-1} (x)} $$\n",
    "$$\\LARGE = -\\frac{\\partial (y_i - F_{m-1}(x_i))^2}{\\partial F_{m-1}(x_i)} $$\n",
    "$$\\LARGE = 2(y_i - F_{m-1}(x_i)) $$"
   ]
  },
  {
   "cell_type": "markdown",
   "metadata": {},
   "source": [
    "#### Removing the constant in this equation, 2, will give us $ y_i-F_{m-1}(x_i) $ which is the residual, thus giving it its name. \n",
    "#### This cool simplification successfully shows us that the negative gradient to follow to minimize the loss is just the residuals."
   ]
  },
  {
   "cell_type": "markdown",
   "metadata": {},
   "source": [
    "### 2.2 Training regression tree"
   ]
  },
  {
   "cell_type": "markdown",
   "metadata": {},
   "source": [
    "#### Now we are going to train a regression tree using $x$ as features to predict for $r$, the residual.\n",
    "#### Each tree can have multiple leaves, also known as terminal nodes."
   ]
  },
  {
   "cell_type": "markdown",
   "metadata": {},
   "source": [
    "### 2.3 Computing for $\\gamma_{jm}$"
   ]
  },
  {
   "cell_type": "markdown",
   "metadata": {},
   "source": [
    "#### We will now have to search for $\\gamma_{jm}$ where $j$ represents different terminal nodes in a tree. \n",
    "#### We will be finding the $\\gamma$ that will minimize the loss on all the samples that belong to that terminal node.\n",
    "#### Here, we are basically trying to minimize the loss/residual/difference between y and our prediction."
   ]
  },
  {
   "cell_type": "markdown",
   "metadata": {},
   "source": [
    "$$\\LARGE \\gamma_{jm} = \\underset{\\gamma}{\\operatorname{argmin}} \\sum_{x_i \\in R_{jm}} L(y_i, F_{m-1}(x_i) + \\gamma)$$\n",
    "$$\\LARGE = \\underset{\\gamma}{\\operatorname{argmin}} \\sum_{x_i \\in R_{jm}} (y_i-F_{m-1}(x_i) - \\gamma)^2$$"
   ]
  },
  {
   "cell_type": "markdown",
   "metadata": {},
   "source": [
    "$$\\LARGE \\frac{\\partial}{\\partial \\gamma} \\sum_{x_i \\in R_{jm}} (y_i - F_{m-1}(x_i) - \\gamma)^2 = 0$$\n",
    "$$\\LARGE -2 \\sum_{x_i \\in R_{jm}} (y_i-F_{m-1}(x_i) - \\gamma) = 0$$\n",
    "$$\\LARGE n_j\\gamma = \\sum_{x_i \\in R_{jm}} (y_i-F_{m-1}(x_i))$$\n",
    "$$\\LARGE \\gamma = \\frac{1}{n_j} \\sum_{x_i \\in R_{jm}} r_{im}$$"
   ]
  },
  {
   "cell_type": "markdown",
   "metadata": {},
   "source": [
    "#### The $n_j$ stands for the number of samples in that specific j terminal node\n",
    "#### Now this finding means that our optimal $\\gamma_{jm}$ is the average of our residuals in the specific terminal nodes. "
   ]
  },
  {
   "cell_type": "markdown",
   "metadata": {},
   "source": [
    "### 2.4 Updating our model\n",
    "#### Now that we calculated thus here, we need to update our model.\n",
    "#### We are now predicting for $F_m(x)$, the new prediction.\n",
    "#### How this is done is building on our previous tree's prediction and improving on it."
   ]
  },
  {
   "cell_type": "markdown",
   "metadata": {},
   "source": [
    "$$\\LARGE F_m(x) = F_{m-1}(x) + v \\sum_{j=1}^{J_m} \\gamma_{jm} 1(x\\in R_{jm})$$"
   ]
  },
  {
   "cell_type": "markdown",
   "metadata": {},
   "source": [
    "#### Now this is something similar to updating the weights of a neural network.\n",
    "#### $ \\gamma_{jm} 1(x\\in R_{jm}) $ means that we pick the value of $\\gamma_{jm}$ if a given x belongs to that specific $j$ terminal node. \n",
    "#### This corresponding $\\gamma_{jm}$ is added to the previous prediction, $F_{m-1}(x)$ and produces the updated prediction, $F_m(x)$.\n",
    "#### The $v$ is a learning rate, set to control the influence the new tree has on the predictions."
   ]
  },
  {
   "cell_type": "markdown",
   "metadata": {},
   "source": [
    "#### That's it! This is the mathematical explanation of the Gradient Boosting algorithm.\n",
    "#### I would say the most important part to wrap your head around is the $\\gamma_{jm}$ which is simply the average of the residuals for the points falling into that specific terminal node.\n",
    "#### The rest of the calculation and mathematical concepts are similar to that of deep learning which is seen widely in today's scene.\n",
    "#### As for the loss function, the only limitation is that it should be differentiable. Any other loss function is acceptable too."
   ]
  },
  {
   "cell_type": "markdown",
   "metadata": {},
   "source": [
    "# 3. Code"
   ]
  },
  {
   "cell_type": "markdown",
   "metadata": {},
   "source": [
    "#### Alright! Enough of that tedious math (which is totally fun once you fall into the trap).\n",
    "#### Let's see the whole algorithm in action in code. \n",
    "#### I will outline in the code which steps the individual lines of code are referring to in the algorithm writing. "
   ]
  },
  {
   "cell_type": "code",
   "execution_count": 5,
   "metadata": {},
   "outputs": [],
   "source": [
    "from sklearn.tree import DecisionTreeRegressor\n",
    "class GradientBoosting:\n",
    "\n",
    "    def __init__(self, v, n_estimators, max_depth=1):\n",
    "        self.v = v\n",
    "        self.n_estimators = n_estimators\n",
    "        self.max_depth = max_depth\n",
    "        self.trees = [] # A list to store all the trees that are trained \n",
    "\n",
    "    def fit(self, X, y):\n",
    "        \n",
    "        self.F0 = y.mean() # Step 1\n",
    "        Fm = self.F0\n",
    "\n",
    "        for _ in range(self.n_estimators): # Step 2\n",
    "            r = y-Fm # Step 2.1 \n",
    "            tree = DecisionTreeRegressor(max_depth = self.max_depth, random_state = 42)\n",
    "            tree.fit(X,r) # Step 2.2 \n",
    "            gamma = tree.predict(X) # Step 2.3 \n",
    "            Fm += self.v * gamma # Step 2.4 \n",
    "            self.trees.append(tree)\n",
    "    \n",
    "    def predict(self, X):\n",
    "\n",
    "        Fm = self.F0\n",
    "\n",
    "        for i in range(self.n_estimators):\n",
    "            Fm += self.v * self.trees[i].predict(X)\n",
    "        \n",
    "        return Fm"
   ]
  },
  {
   "cell_type": "markdown",
   "metadata": {},
   "source": [
    "#### Let's generate some non-linear data to try out our Gradient Boosting algorithm."
   ]
  },
  {
   "cell_type": "code",
   "execution_count": 6,
   "metadata": {},
   "outputs": [
    {
     "data": {
      "image/png": "[encoded data removed]",
      "text/plain": [
       "<Figure size 640x480 with 1 Axes>"
      ]
     },
     "metadata": {},
     "output_type": "display_data"
    }
   ],
   "source": [
    "import numpy as np\n",
    "import matplotlib.pyplot as plt\n",
    "\n",
    "# Generate non-linear data\n",
    "np.random.seed(0)\n",
    "X = np.linspace(-10, 10, 100)\n",
    "Y = 0.5 * X**2 + 3 * np.sin(X) + np.random.normal(0, 2, 100)  # Non-linear relationship with some noise\n",
    "\n",
    "# Plot the data\n",
    "plt.scatter(X, Y, color='b')\n",
    "plt.title('Non-linear Data')\n",
    "plt.xlabel('X')\n",
    "plt.ylabel('Y')\n",
    "plt.show()"
   ]
  },
  {
   "cell_type": "code",
   "execution_count": 17,
   "metadata": {},
   "outputs": [
    {
     "name": "stdout",
     "output_type": "stream",
     "text": [
      "Our algorithm's RMSE is 87.81\n",
      "Sklearn's GBM's RMSE is 87.81\n"
     ]
    }
   ],
   "source": [
    "# Testing our algorithm\n",
    "from sklearn.metrics import mean_squared_error\n",
    "from sklearn.ensemble import GradientBoostingRegressor\n",
    "\n",
    "gbm = GradientBoosting(n_estimators=20, v = 0.1, max_depth=1)\n",
    "gbm.fit(X.reshape(-1,1),Y)\n",
    "rmse = mean_squared_error(Y, gbm.predict(X.reshape(-1,1)))\n",
    "print(f\"Our algorithm's RMSE is {rmse:.2f}\")\n",
    "\n",
    "sklearn_gbm = GradientBoostingRegressor(\n",
    "    n_estimators=20, \n",
    "    learning_rate=0.1, \n",
    "    max_depth=1\n",
    ")\n",
    "sklearn_gbm.fit(X.reshape(-1,1),Y)\n",
    "sklearn_gbm_rmse = mean_squared_error(Y, sklearn_gbm.predict(X.reshape(-1,1)))\n",
    "print(f\"Sklearn's GBM's RMSE is {sklearn_gbm_rmse:.2f}\")"
   ]
  },
  {
   "cell_type": "markdown",
   "metadata": {},
   "source": [
    "#### We can see that under the hood, scikit learn's Gradient Boosting Regressor is nothing too fancy, but just religiously sticking by the mathematical writings of the algorithm."
   ]
  },
  {
   "cell_type": "markdown",
   "metadata": {},
   "source": [
    "# 4. XGBoost "
   ]
  },
  {
   "cell_type": "markdown",
   "metadata": {},
   "source": [
    "#### Ending this guide on this note would be sufficient enough for those seeking to understand what the foundation of a Gradient Boosting algorithm is. \n",
    "#### However, I believe everyone wishes to understand the popular algorithm used nowadays when it comes to boosting models, the XGBoost algorithm.\n",
    "#### Before we end, I will dive briefly into what XGBoost is about and hopefully give you a deeper understanding of it."
   ]
  },
  {
   "cell_type": "markdown",
   "metadata": {},
   "source": [
    "#### So there are some notable distinctions of XGBoost compared to a conventional gradient boosting algorithm. \n",
    "#### Some of them are: \n",
    "##### - Regularization\n",
    "##### - Tree pruning \n",
    "##### - Parallelization"
   ]
  },
  {
   "cell_type": "markdown",
   "metadata": {},
   "source": [
    "#### So for XGBoost algorithms, we split down and make trees based on the Similarity Score as shown below."
   ]
  },
  {
   "cell_type": "markdown",
   "metadata": {},
   "source": [
    "$$\\LARGE \\frac{(\\sum residuals)^2}{len(residuals) + \\lambda}$$"
   ]
  },
  {
   "cell_type": "markdown",
   "metadata": {},
   "source": [
    "#### The $\\lambda$ here represents regularization.\n",
    "#### $\\lambda$ also controls how much to change the previous prediction by, providing users with a way to control the variance of the prediction.\n",
    "#### Now, trees are constructed to maximize this similarity score gain, either down to the maximum depth or till there is only one residual remaining in the node.\n",
    "#### Pruning comes into play when the tree is pruned from bottom up, till the point where the Gain of a parent node is greater than the hyper parameter $\\gamma$\n",
    "#### With tree pruning, XGBoost showcases improved model generalization, lowering possibility of overfitting.\n",
    "#### Parallelization is also achieved by parallel tree construction when finding for the best split at each node. "
   ]
  },
  {
   "cell_type": "markdown",
   "metadata": {},
   "source": [
    "# Conclusion"
   ]
  },
  {
   "cell_type": "markdown",
   "metadata": {},
   "source": [
    "#### I hope this guide helped you understand the Gradient Boosting algorithm. \n",
    "#### I highly suggest you to understand this algorithm and make sure you understand how it works before using it. \n",
    "#### This is a potent algorithm that is used widely in competitions for high scores due to its outperformance and robustness. \n",
    "#### With this, I will see you in the next guide!"
   ]
  },
  {
   "cell_type": "markdown",
   "metadata": {},
   "source": [
    "# Credit"
   ]
  },
  {
   "cell_type": "markdown",
   "metadata": {},
   "source": [
    "* https://towardsdatascience.com/all-you-need-to-know-about-gradient-boosting-algorithm-part-1-regression-2520a34a502\n",
    "* https://medium.com/@prathameshsonawane/xgboost-how-does-this-work-e1cae7c5b6cb"
   ]
  }
 ],
 "metadata": {
  "kernelspec": {
   "display_name": "Python 3.11.7 ('machine_deep_learning')",
   "language": "python",
   "name": "python3"
  },
  "language_info": {
   "codemirror_mode": {
    "name": "ipython",
    "version": 3
   },
   "file_extension": ".py",
   "mimetype": "text/x-python",
   "name": "python",
   "nbconvert_exporter": "python",
   "pygments_lexer": "ipython3",
   "version": "3.11.7"
  },
  "orig_nbformat": 4,
  "vscode": {
   "interpreter": {
    "hash": "a01aa30e7cb9fc7776677534e11c9ab1eed0bfffb3501a39ef7b976f9557b493"
   }
  }
 },
 "nbformat": 4,
 "nbformat_minor": 2
}
