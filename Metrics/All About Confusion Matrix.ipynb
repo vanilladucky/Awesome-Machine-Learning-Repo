{
 "cells": [
  {
   "cell_type": "markdown",
   "id": "cbe68789",
   "metadata": {
    "papermill": {
     "duration": 0.011694,
     "end_time": "2023-07-04T08:22:07.874397",
     "exception": false,
     "start_time": "2023-07-04T08:22:07.862703",
     "status": "completed"
    },
    "tags": []
   },
   "source": [
    "# Welcome to All About Confusion Matrix 🌟"
   ]
  },
  {
   "cell_type": "markdown",
   "id": "254a19df",
   "metadata": {
    "papermill": {
     "duration": 0.009013,
     "end_time": "2023-07-04T08:22:07.892789",
     "exception": false,
     "start_time": "2023-07-04T08:22:07.883776",
     "status": "completed"
    },
    "tags": []
   },
   "source": [
    "<div style=\"display:fill;\n",
    "           border-radius:5px;\n",
    "           background-color: lightblue;\n",
    "           font-size:110%;\n",
    "           font-family:Verdana;\n",
    "           letter-spacing:0.5px\">\n",
    "\n",
    "<p style=\"padding: 10px;\n",
    "              color:black;\">\n",
    "    Welcome back! If you are new here, I'm currently a computer science student, an avid number nerd, an aspiring researcher who publishes <a href=\"https://www.kaggle.com/code/kimmik123/all-about-linear-regression\">notebooks on certain topics</a> that I hope can guide and inspire beginners throughout their journey in Kaggle and beyond. \n",
    "</p>\n",
    "</div>"
   ]
  },
  {
   "cell_type": "markdown",
   "id": "99956a4e",
   "metadata": {
    "papermill": {
     "duration": 0.009504,
     "end_time": "2023-07-04T08:22:07.911531",
     "exception": false,
     "start_time": "2023-07-04T08:22:07.902027",
     "status": "completed"
    },
    "tags": []
   },
   "source": [
    "### Today, I thought of introducing the fundamental idea of a confusion matrix and the terminalogies tagging along with it. \n",
    "### This is an important knowledge for any aspiring data scientist, machine learning practioners, etc... "
   ]
  },
  {
   "cell_type": "markdown",
   "id": "510c1448",
   "metadata": {
    "papermill": {
     "duration": 0.008836,
     "end_time": "2023-07-04T08:22:07.929664",
     "exception": false,
     "start_time": "2023-07-04T08:22:07.920828",
     "status": "completed"
    },
    "tags": []
   },
   "source": [
    "<div style=\"display:fill;\n",
    "           border-radius:5px;\n",
    "           background-color: lightblue;\n",
    "           font-size:110%;\n",
    "           font-family:Verdana;\n",
    "           letter-spacing:0.5px\">\n",
    "\n",
    "<p style=\"padding: 10px;\n",
    "              color:black;\n",
    "          text-align: center;\n",
    "          font-size:20px;\">\n",
    "    <b>What is it?</b>\n",
    "</p>\n",
    "</div>"
   ]
  },
  {
   "cell_type": "markdown",
   "id": "b4e998af",
   "metadata": {
    "papermill": {
     "duration": 0.009495,
     "end_time": "2023-07-04T08:22:07.948485",
     "exception": false,
     "start_time": "2023-07-04T08:22:07.938990",
     "status": "completed"
    },
    "tags": []
   },
   "source": [
    "### Confusion matrix by itself is a visualization tool, crucial in helping users understand the results of one's predictions and the algorithm used to generate those results. \n",
    "### It showcases features such as Recall, Precision, Specificity, Accuracy and can even use these numbers to calculate the AUC-ROC score. \n",
    "### For now, this will all sound foreign to you and sometimes it still does to me. \n",
    "### But I'm hoping that after this notebook, you'll realize the power behind this tool and the different perspective you can obtain. "
   ]
  },
  {
   "cell_type": "markdown",
   "id": "b66ae6c0",
   "metadata": {
    "papermill": {
     "duration": 0.009017,
     "end_time": "2023-07-04T08:22:07.967062",
     "exception": false,
     "start_time": "2023-07-04T08:22:07.958045",
     "status": "completed"
    },
    "tags": []
   },
   "source": [
    "<div style=\"display:fill;\n",
    "           border-radius:5px;\n",
    "           background-color: lightblue;\n",
    "           font-size:110%;\n",
    "           font-family:Verdana;\n",
    "           letter-spacing:0.5px\">\n",
    "\n",
    "<p style=\"padding: 10px;\n",
    "              color:black;\n",
    "          text-align: center;\n",
    "          font-size:20px;\">\n",
    "    <b>Why is it important?</b>\n",
    "</p>\n",
    "</div>"
   ]
  },
  {
   "cell_type": "markdown",
   "id": "86e4a611",
   "metadata": {
    "papermill": {
     "duration": 0.008909,
     "end_time": "2023-07-04T08:22:07.985445",
     "exception": false,
     "start_time": "2023-07-04T08:22:07.976536",
     "status": "completed"
    },
    "tags": []
   },
   "source": [
    "### For those first starting out in this field and within the classification problem spectrum, people will simply be satisfied from their accuracy scores that their model shows. \n",
    "### Accuracy score is definitely one of the fundamental calculations to access the model's performance. \n",
    "### However, it only shows you facts on the surface and not the hidden meanings that you could easily miss."
   ]
  },
  {
   "cell_type": "markdown",
   "id": "b08e75ef",
   "metadata": {
    "papermill": {
     "duration": 0.00904,
     "end_time": "2023-07-04T08:22:08.003785",
     "exception": false,
     "start_time": "2023-07-04T08:22:07.994745",
     "status": "completed"
    },
    "tags": []
   },
   "source": [
    "### This is especially so in the field of medicine or business. \n",
    "### Sometimes, our models' predictions of features may not be correct all the way. \n",
    "### Sometimes, our models might predict a certain observation as positive but it may turn our negative, which is known as False Positive (FP) and the vice versa would be called False Negative (FN). \n",
    "### In the medical field, this one simple mistake can possibly cost a patient's life. \n",
    "### If his cancer test returns as negative, but he infact had cancer, the test would have resulted in False Negative and the patient would have missed out on his chance to treat his illness before it worsens. \n",
    "### Mistakes like this are hard to sought after by using mere accuracy figures. \n",
    "### That is where this tool known as confusion matrix comes into place and assists us. "
   ]
  },
  {
   "cell_type": "markdown",
   "id": "d6441090",
   "metadata": {
    "execution": {
     "iopub.execute_input": "2023-07-04T07:50:04.682508Z",
     "iopub.status.busy": "2023-07-04T07:50:04.681980Z",
     "iopub.status.idle": "2023-07-04T07:50:04.696020Z",
     "shell.execute_reply": "2023-07-04T07:50:04.694839Z",
     "shell.execute_reply.started": "2023-07-04T07:50:04.682466Z"
    },
    "papermill": {
     "duration": 0.009015,
     "end_time": "2023-07-04T08:22:08.022160",
     "exception": false,
     "start_time": "2023-07-04T08:22:08.013145",
     "status": "completed"
    },
    "tags": []
   },
   "source": [
    "<div style=\"display:fill;\n",
    "           border-radius:5px;\n",
    "           background-color: lightblue;\n",
    "           font-size:110%;\n",
    "           font-family:Verdana;\n",
    "           letter-spacing:0.5px\">\n",
    "\n",
    "<p style=\"padding: 10px;\n",
    "              color:black;\n",
    "          text-align: center;\n",
    "          font-size:20px;\">\n",
    "    <b>Details behind this tool</b>\n",
    "</p>\n",
    "</div>"
   ]
  },
  {
   "cell_type": "markdown",
   "id": "02c6cf0c",
   "metadata": {
    "papermill": {
     "duration": 0.009149,
     "end_time": "2023-07-04T08:22:08.041570",
     "exception": false,
     "start_time": "2023-07-04T08:22:08.032421",
     "status": "completed"
    },
    "tags": []
   },
   "source": [
    "### Now, let's observe what this matrix actually looks like. "
   ]
  },
  {
   "cell_type": "markdown",
   "id": "17a1a36d",
   "metadata": {
    "execution": {
     "iopub.execute_input": "2023-07-04T07:50:26.774082Z",
     "iopub.status.busy": "2023-07-04T07:50:26.773599Z",
     "iopub.status.idle": "2023-07-04T07:50:26.804270Z",
     "shell.execute_reply": "2023-07-04T07:50:26.803202Z",
     "shell.execute_reply.started": "2023-07-04T07:50:26.774043Z"
    },
    "papermill": {
     "duration": 0.009787,
     "end_time": "2023-07-04T08:22:08.061532",
     "exception": false,
     "start_time": "2023-07-04T08:22:08.051745",
     "status": "completed"
    },
    "tags": []
   },
   "source": [
    "<div style=\"width:100%;text-align: center;\"> \n",
    "<img align=middle src=\"https://miro.medium.com/v2/resize:fit:712/1*Z54JgbS4DUwWSknhDCvNTQ.png\" style=\"width:30%;height:30%;margin:auto;\"> \n",
    "</div>"
   ]
  },
  {
   "cell_type": "markdown",
   "id": "f982e2e7",
   "metadata": {
    "papermill": {
     "duration": 0.009373,
     "end_time": "2023-07-04T08:22:08.080746",
     "exception": false,
     "start_time": "2023-07-04T08:22:08.071373",
     "status": "completed"
    },
    "tags": []
   },
   "source": [
    "### Let's clear up some terminologies first. \n",
    "### We can observe that there are 4 boxes and in each of them, there are abbreviations written. "
   ]
  },
  {
   "cell_type": "markdown",
   "id": "a46bd3fe",
   "metadata": {
    "papermill": {
     "duration": 0.009477,
     "end_time": "2023-07-04T08:22:08.099626",
     "exception": false,
     "start_time": "2023-07-04T08:22:08.090149",
     "status": "completed"
    },
    "tags": []
   },
   "source": [
    "### TP means True Positive, meaning that we predicted the label correctly as being Positive. \n",
    "### FP means False Positive, meaning we predicted it as Positive but the actual label is Negative. \n",
    "### FN means False Negative, meaning we predicted it as Negative but the actual label is Positive. \n",
    "### TN means True Negative, meaning that we predicted the label correctly as being Negative."
   ]
  },
  {
   "cell_type": "markdown",
   "id": "b102738a",
   "metadata": {
    "papermill": {
     "duration": 0.008874,
     "end_time": "2023-07-04T08:22:08.117837",
     "exception": false,
     "start_time": "2023-07-04T08:22:08.108963",
     "status": "completed"
    },
    "tags": []
   },
   "source": [
    "### Using these values, we can calculate some useful variables. \n",
    "### Recall, refers to how many we predicted correctly from all the positive classes."
   ]
  },
  {
   "cell_type": "markdown",
   "id": "8a56f155",
   "metadata": {
    "papermill": {
     "duration": 0.008717,
     "end_time": "2023-07-04T08:22:08.135722",
     "exception": false,
     "start_time": "2023-07-04T08:22:08.127005",
     "status": "completed"
    },
    "tags": []
   },
   "source": [
    "$$\\LARGE \\frac{TP}{TP + FN} $$"
   ]
  },
  {
   "cell_type": "markdown",
   "id": "93cfa0f0",
   "metadata": {
    "papermill": {
     "duration": 0.009433,
     "end_time": "2023-07-04T08:22:08.154753",
     "exception": false,
     "start_time": "2023-07-04T08:22:08.145320",
     "status": "completed"
    },
    "tags": []
   },
   "source": [
    "### Precision refers to how many are actually positive from all the classes we predicted as positive. "
   ]
  },
  {
   "cell_type": "markdown",
   "id": "9e6d23ea",
   "metadata": {
    "papermill": {
     "duration": 0.008837,
     "end_time": "2023-07-04T08:22:08.172866",
     "exception": false,
     "start_time": "2023-07-04T08:22:08.164029",
     "status": "completed"
    },
    "tags": []
   },
   "source": [
    "$$\\LARGE \\frac{TP}{TP+FP} $$"
   ]
  },
  {
   "cell_type": "markdown",
   "id": "f8b1842f",
   "metadata": {
    "papermill": {
     "duration": 0.009123,
     "end_time": "2023-07-04T08:22:08.192392",
     "exception": false,
     "start_time": "2023-07-04T08:22:08.183269",
     "status": "completed"
    },
    "tags": []
   },
   "source": [
    "### Accuracy refers to how many we predicted correctly from all the classes."
   ]
  },
  {
   "cell_type": "markdown",
   "id": "b0e01d27",
   "metadata": {
    "execution": {
     "iopub.execute_input": "2023-07-04T07:58:03.980261Z",
     "iopub.status.busy": "2023-07-04T07:58:03.979852Z",
     "iopub.status.idle": "2023-07-04T07:58:03.986928Z",
     "shell.execute_reply": "2023-07-04T07:58:03.985506Z",
     "shell.execute_reply.started": "2023-07-04T07:58:03.980230Z"
    },
    "papermill": {
     "duration": 0.0089,
     "end_time": "2023-07-04T08:22:08.210519",
     "exception": false,
     "start_time": "2023-07-04T08:22:08.201619",
     "status": "completed"
    },
    "tags": []
   },
   "source": [
    "$$\\LARGE \\frac{TP+TN}{TP+TN+FP+FN} $$"
   ]
  },
  {
   "cell_type": "markdown",
   "id": "e4078066",
   "metadata": {
    "papermill": {
     "duration": 0.008903,
     "end_time": "2023-07-04T08:22:08.228542",
     "exception": false,
     "start_time": "2023-07-04T08:22:08.219639",
     "status": "completed"
    },
    "tags": []
   },
   "source": [
    "### Apart from these calculations, we also have an important major function known as the ROC (Receiver Operating Characteristic) curve. \n",
    "### This is a plot between 2 parameters, the TP rate (recall) and the FP rate (specificity).\n",
    "### Using different classification thresholds, these two parameters are plotted out. \n",
    "### After which, the area under the curve (AUC) is taken using integration. \n",
    "### This score is generally favored when it is close to 1, meaning the model is able to separate between the 2 classes perfectly while 0 means the opposite. "
   ]
  },
  {
   "cell_type": "markdown",
   "id": "85744331",
   "metadata": {
    "papermill": {
     "duration": 0.008945,
     "end_time": "2023-07-04T08:22:08.246711",
     "exception": false,
     "start_time": "2023-07-04T08:22:08.237766",
     "status": "completed"
    },
    "tags": []
   },
   "source": [
    "### Let's try and see this in action."
   ]
  },
  {
   "cell_type": "markdown",
   "id": "f4c63cd9",
   "metadata": {
    "papermill": {
     "duration": 0.009429,
     "end_time": "2023-07-04T08:22:08.265368",
     "exception": false,
     "start_time": "2023-07-04T08:22:08.255939",
     "status": "completed"
    },
    "tags": []
   },
   "source": [
    "<div style=\"display:fill;\n",
    "           border-radius:5px;\n",
    "           background-color: lightblue;\n",
    "           font-size:110%;\n",
    "           font-family:Verdana;\n",
    "           letter-spacing:0.5px\">\n",
    "\n",
    "<p style=\"padding: 10px;\n",
    "              color:black;\n",
    "          text-align: center;\n",
    "          font-size:20px;\">\n",
    "    <b>Example</b>\n",
    "</p>\n",
    "</div>"
   ]
  },
  {
   "cell_type": "code",
   "execution_count": 1,
   "id": "f681c0c9",
   "metadata": {
    "_kg_hide-input": true,
    "execution": {
     "iopub.execute_input": "2023-07-04T08:22:08.285713Z",
     "iopub.status.busy": "2023-07-04T08:22:08.285311Z",
     "iopub.status.idle": "2023-07-04T08:22:08.297409Z",
     "shell.execute_reply": "2023-07-04T08:22:08.296406Z"
    },
    "jupyter": {
     "source_hidden": true
    },
    "papermill": {
     "duration": 0.025359,
     "end_time": "2023-07-04T08:22:08.300011",
     "exception": false,
     "start_time": "2023-07-04T08:22:08.274652",
     "status": "completed"
    },
    "tags": []
   },
   "outputs": [],
   "source": [
    "import pandas as pd\n",
    "import numpy as np"
   ]
  },
  {
   "cell_type": "code",
   "execution_count": 2,
   "id": "28a30be6",
   "metadata": {
    "execution": {
     "iopub.execute_input": "2023-07-04T08:22:08.321598Z",
     "iopub.status.busy": "2023-07-04T08:22:08.320898Z",
     "iopub.status.idle": "2023-07-04T08:22:08.428849Z",
     "shell.execute_reply": "2023-07-04T08:22:08.427950Z"
    },
    "papermill": {
     "duration": 0.121521,
     "end_time": "2023-07-04T08:22:08.431680",
     "exception": false,
     "start_time": "2023-07-04T08:22:08.310159",
     "status": "completed"
    },
    "tags": []
   },
   "outputs": [
    {
     "data": {
      "text/html": [
       "<div>\n",
       "<style scoped>\n",
       "    .dataframe tbody tr th:only-of-type {\n",
       "        vertical-align: middle;\n",
       "    }\n",
       "\n",
       "    .dataframe tbody tr th {\n",
       "        vertical-align: top;\n",
       "    }\n",
       "\n",
       "    .dataframe thead th {\n",
       "        text-align: right;\n",
       "    }\n",
       "</style>\n",
       "<table border=\"1\" class=\"dataframe\">\n",
       "  <thead>\n",
       "    <tr style=\"text-align: right;\">\n",
       "      <th></th>\n",
       "      <th>class</th>\n",
       "      <th>cap-shape</th>\n",
       "      <th>cap-surface</th>\n",
       "      <th>cap-color</th>\n",
       "      <th>bruises</th>\n",
       "      <th>odor</th>\n",
       "      <th>gill-attachment</th>\n",
       "      <th>gill-spacing</th>\n",
       "      <th>gill-size</th>\n",
       "      <th>gill-color</th>\n",
       "      <th>...</th>\n",
       "      <th>stalk-surface-below-ring</th>\n",
       "      <th>stalk-color-above-ring</th>\n",
       "      <th>stalk-color-below-ring</th>\n",
       "      <th>veil-type</th>\n",
       "      <th>veil-color</th>\n",
       "      <th>ring-number</th>\n",
       "      <th>ring-type</th>\n",
       "      <th>spore-print-color</th>\n",
       "      <th>population</th>\n",
       "      <th>habitat</th>\n",
       "    </tr>\n",
       "  </thead>\n",
       "  <tbody>\n",
       "    <tr>\n",
       "      <th>0</th>\n",
       "      <td>p</td>\n",
       "      <td>x</td>\n",
       "      <td>s</td>\n",
       "      <td>n</td>\n",
       "      <td>t</td>\n",
       "      <td>p</td>\n",
       "      <td>f</td>\n",
       "      <td>c</td>\n",
       "      <td>n</td>\n",
       "      <td>k</td>\n",
       "      <td>...</td>\n",
       "      <td>s</td>\n",
       "      <td>w</td>\n",
       "      <td>w</td>\n",
       "      <td>p</td>\n",
       "      <td>w</td>\n",
       "      <td>o</td>\n",
       "      <td>p</td>\n",
       "      <td>k</td>\n",
       "      <td>s</td>\n",
       "      <td>u</td>\n",
       "    </tr>\n",
       "    <tr>\n",
       "      <th>1</th>\n",
       "      <td>e</td>\n",
       "      <td>x</td>\n",
       "      <td>s</td>\n",
       "      <td>y</td>\n",
       "      <td>t</td>\n",
       "      <td>a</td>\n",
       "      <td>f</td>\n",
       "      <td>c</td>\n",
       "      <td>b</td>\n",
       "      <td>k</td>\n",
       "      <td>...</td>\n",
       "      <td>s</td>\n",
       "      <td>w</td>\n",
       "      <td>w</td>\n",
       "      <td>p</td>\n",
       "      <td>w</td>\n",
       "      <td>o</td>\n",
       "      <td>p</td>\n",
       "      <td>n</td>\n",
       "      <td>n</td>\n",
       "      <td>g</td>\n",
       "    </tr>\n",
       "    <tr>\n",
       "      <th>2</th>\n",
       "      <td>e</td>\n",
       "      <td>b</td>\n",
       "      <td>s</td>\n",
       "      <td>w</td>\n",
       "      <td>t</td>\n",
       "      <td>l</td>\n",
       "      <td>f</td>\n",
       "      <td>c</td>\n",
       "      <td>b</td>\n",
       "      <td>n</td>\n",
       "      <td>...</td>\n",
       "      <td>s</td>\n",
       "      <td>w</td>\n",
       "      <td>w</td>\n",
       "      <td>p</td>\n",
       "      <td>w</td>\n",
       "      <td>o</td>\n",
       "      <td>p</td>\n",
       "      <td>n</td>\n",
       "      <td>n</td>\n",
       "      <td>m</td>\n",
       "    </tr>\n",
       "    <tr>\n",
       "      <th>3</th>\n",
       "      <td>p</td>\n",
       "      <td>x</td>\n",
       "      <td>y</td>\n",
       "      <td>w</td>\n",
       "      <td>t</td>\n",
       "      <td>p</td>\n",
       "      <td>f</td>\n",
       "      <td>c</td>\n",
       "      <td>n</td>\n",
       "      <td>n</td>\n",
       "      <td>...</td>\n",
       "      <td>s</td>\n",
       "      <td>w</td>\n",
       "      <td>w</td>\n",
       "      <td>p</td>\n",
       "      <td>w</td>\n",
       "      <td>o</td>\n",
       "      <td>p</td>\n",
       "      <td>k</td>\n",
       "      <td>s</td>\n",
       "      <td>u</td>\n",
       "    </tr>\n",
       "    <tr>\n",
       "      <th>4</th>\n",
       "      <td>e</td>\n",
       "      <td>x</td>\n",
       "      <td>s</td>\n",
       "      <td>g</td>\n",
       "      <td>f</td>\n",
       "      <td>n</td>\n",
       "      <td>f</td>\n",
       "      <td>w</td>\n",
       "      <td>b</td>\n",
       "      <td>k</td>\n",
       "      <td>...</td>\n",
       "      <td>s</td>\n",
       "      <td>w</td>\n",
       "      <td>w</td>\n",
       "      <td>p</td>\n",
       "      <td>w</td>\n",
       "      <td>o</td>\n",
       "      <td>e</td>\n",
       "      <td>n</td>\n",
       "      <td>a</td>\n",
       "      <td>g</td>\n",
       "    </tr>\n",
       "    <tr>\n",
       "      <th>...</th>\n",
       "      <td>...</td>\n",
       "      <td>...</td>\n",
       "      <td>...</td>\n",
       "      <td>...</td>\n",
       "      <td>...</td>\n",
       "      <td>...</td>\n",
       "      <td>...</td>\n",
       "      <td>...</td>\n",
       "      <td>...</td>\n",
       "      <td>...</td>\n",
       "      <td>...</td>\n",
       "      <td>...</td>\n",
       "      <td>...</td>\n",
       "      <td>...</td>\n",
       "      <td>...</td>\n",
       "      <td>...</td>\n",
       "      <td>...</td>\n",
       "      <td>...</td>\n",
       "      <td>...</td>\n",
       "      <td>...</td>\n",
       "      <td>...</td>\n",
       "    </tr>\n",
       "    <tr>\n",
       "      <th>8119</th>\n",
       "      <td>e</td>\n",
       "      <td>k</td>\n",
       "      <td>s</td>\n",
       "      <td>n</td>\n",
       "      <td>f</td>\n",
       "      <td>n</td>\n",
       "      <td>a</td>\n",
       "      <td>c</td>\n",
       "      <td>b</td>\n",
       "      <td>y</td>\n",
       "      <td>...</td>\n",
       "      <td>s</td>\n",
       "      <td>o</td>\n",
       "      <td>o</td>\n",
       "      <td>p</td>\n",
       "      <td>o</td>\n",
       "      <td>o</td>\n",
       "      <td>p</td>\n",
       "      <td>b</td>\n",
       "      <td>c</td>\n",
       "      <td>l</td>\n",
       "    </tr>\n",
       "    <tr>\n",
       "      <th>8120</th>\n",
       "      <td>e</td>\n",
       "      <td>x</td>\n",
       "      <td>s</td>\n",
       "      <td>n</td>\n",
       "      <td>f</td>\n",
       "      <td>n</td>\n",
       "      <td>a</td>\n",
       "      <td>c</td>\n",
       "      <td>b</td>\n",
       "      <td>y</td>\n",
       "      <td>...</td>\n",
       "      <td>s</td>\n",
       "      <td>o</td>\n",
       "      <td>o</td>\n",
       "      <td>p</td>\n",
       "      <td>n</td>\n",
       "      <td>o</td>\n",
       "      <td>p</td>\n",
       "      <td>b</td>\n",
       "      <td>v</td>\n",
       "      <td>l</td>\n",
       "    </tr>\n",
       "    <tr>\n",
       "      <th>8121</th>\n",
       "      <td>e</td>\n",
       "      <td>f</td>\n",
       "      <td>s</td>\n",
       "      <td>n</td>\n",
       "      <td>f</td>\n",
       "      <td>n</td>\n",
       "      <td>a</td>\n",
       "      <td>c</td>\n",
       "      <td>b</td>\n",
       "      <td>n</td>\n",
       "      <td>...</td>\n",
       "      <td>s</td>\n",
       "      <td>o</td>\n",
       "      <td>o</td>\n",
       "      <td>p</td>\n",
       "      <td>o</td>\n",
       "      <td>o</td>\n",
       "      <td>p</td>\n",
       "      <td>b</td>\n",
       "      <td>c</td>\n",
       "      <td>l</td>\n",
       "    </tr>\n",
       "    <tr>\n",
       "      <th>8122</th>\n",
       "      <td>p</td>\n",
       "      <td>k</td>\n",
       "      <td>y</td>\n",
       "      <td>n</td>\n",
       "      <td>f</td>\n",
       "      <td>y</td>\n",
       "      <td>f</td>\n",
       "      <td>c</td>\n",
       "      <td>n</td>\n",
       "      <td>b</td>\n",
       "      <td>...</td>\n",
       "      <td>k</td>\n",
       "      <td>w</td>\n",
       "      <td>w</td>\n",
       "      <td>p</td>\n",
       "      <td>w</td>\n",
       "      <td>o</td>\n",
       "      <td>e</td>\n",
       "      <td>w</td>\n",
       "      <td>v</td>\n",
       "      <td>l</td>\n",
       "    </tr>\n",
       "    <tr>\n",
       "      <th>8123</th>\n",
       "      <td>e</td>\n",
       "      <td>x</td>\n",
       "      <td>s</td>\n",
       "      <td>n</td>\n",
       "      <td>f</td>\n",
       "      <td>n</td>\n",
       "      <td>a</td>\n",
       "      <td>c</td>\n",
       "      <td>b</td>\n",
       "      <td>y</td>\n",
       "      <td>...</td>\n",
       "      <td>s</td>\n",
       "      <td>o</td>\n",
       "      <td>o</td>\n",
       "      <td>p</td>\n",
       "      <td>o</td>\n",
       "      <td>o</td>\n",
       "      <td>p</td>\n",
       "      <td>o</td>\n",
       "      <td>c</td>\n",
       "      <td>l</td>\n",
       "    </tr>\n",
       "  </tbody>\n",
       "</table>\n",
       "<p>8124 rows × 23 columns</p>\n",
       "</div>"
      ],
      "text/plain": [
       "     class cap-shape cap-surface cap-color bruises odor gill-attachment  \\\n",
       "0        p         x           s         n       t    p               f   \n",
       "1        e         x           s         y       t    a               f   \n",
       "2        e         b           s         w       t    l               f   \n",
       "3        p         x           y         w       t    p               f   \n",
       "4        e         x           s         g       f    n               f   \n",
       "...    ...       ...         ...       ...     ...  ...             ...   \n",
       "8119     e         k           s         n       f    n               a   \n",
       "8120     e         x           s         n       f    n               a   \n",
       "8121     e         f           s         n       f    n               a   \n",
       "8122     p         k           y         n       f    y               f   \n",
       "8123     e         x           s         n       f    n               a   \n",
       "\n",
       "     gill-spacing gill-size gill-color  ... stalk-surface-below-ring  \\\n",
       "0               c         n          k  ...                        s   \n",
       "1               c         b          k  ...                        s   \n",
       "2               c         b          n  ...                        s   \n",
       "3               c         n          n  ...                        s   \n",
       "4               w         b          k  ...                        s   \n",
       "...           ...       ...        ...  ...                      ...   \n",
       "8119            c         b          y  ...                        s   \n",
       "8120            c         b          y  ...                        s   \n",
       "8121            c         b          n  ...                        s   \n",
       "8122            c         n          b  ...                        k   \n",
       "8123            c         b          y  ...                        s   \n",
       "\n",
       "     stalk-color-above-ring stalk-color-below-ring veil-type veil-color  \\\n",
       "0                         w                      w         p          w   \n",
       "1                         w                      w         p          w   \n",
       "2                         w                      w         p          w   \n",
       "3                         w                      w         p          w   \n",
       "4                         w                      w         p          w   \n",
       "...                     ...                    ...       ...        ...   \n",
       "8119                      o                      o         p          o   \n",
       "8120                      o                      o         p          n   \n",
       "8121                      o                      o         p          o   \n",
       "8122                      w                      w         p          w   \n",
       "8123                      o                      o         p          o   \n",
       "\n",
       "     ring-number ring-type spore-print-color population habitat  \n",
       "0              o         p                 k          s       u  \n",
       "1              o         p                 n          n       g  \n",
       "2              o         p                 n          n       m  \n",
       "3              o         p                 k          s       u  \n",
       "4              o         e                 n          a       g  \n",
       "...          ...       ...               ...        ...     ...  \n",
       "8119           o         p                 b          c       l  \n",
       "8120           o         p                 b          v       l  \n",
       "8121           o         p                 b          c       l  \n",
       "8122           o         e                 w          v       l  \n",
       "8123           o         p                 o          c       l  \n",
       "\n",
       "[8124 rows x 23 columns]"
      ]
     },
     "execution_count": 2,
     "metadata": {},
     "output_type": "execute_result"
    }
   ],
   "source": [
    "# Importing in data \n",
    "df = pd.read_csv('/kaggle/input/mushroom-classification/mushrooms.csv')\n",
    "df"
   ]
  },
  {
   "cell_type": "code",
   "execution_count": 3,
   "id": "5a9f7a77",
   "metadata": {
    "execution": {
     "iopub.execute_input": "2023-07-04T08:22:08.454728Z",
     "iopub.status.busy": "2023-07-04T08:22:08.454279Z",
     "iopub.status.idle": "2023-07-04T08:22:08.466030Z",
     "shell.execute_reply": "2023-07-04T08:22:08.464559Z"
    },
    "papermill": {
     "duration": 0.026775,
     "end_time": "2023-07-04T08:22:08.468608",
     "exception": false,
     "start_time": "2023-07-04T08:22:08.441833",
     "status": "completed"
    },
    "tags": []
   },
   "outputs": [
    {
     "data": {
      "text/plain": [
       "array(['p', 'e'], dtype=object)"
      ]
     },
     "execution_count": 3,
     "metadata": {},
     "output_type": "execute_result"
    }
   ],
   "source": [
    "df['class'].unique()"
   ]
  },
  {
   "cell_type": "markdown",
   "id": "b1ce4d90",
   "metadata": {
    "papermill": {
     "duration": 0.009809,
     "end_time": "2023-07-04T08:22:08.488753",
     "exception": false,
     "start_time": "2023-07-04T08:22:08.478944",
     "status": "completed"
    },
    "tags": []
   },
   "source": [
    "### We are trying to predict the type of mushroom and there are 2 types of different mushrooms in this dataset. "
   ]
  },
  {
   "cell_type": "markdown",
   "id": "920a7fd2",
   "metadata": {
    "papermill": {
     "duration": 0.011047,
     "end_time": "2023-07-04T08:22:08.509991",
     "exception": false,
     "start_time": "2023-07-04T08:22:08.498944",
     "status": "completed"
    },
    "tags": []
   },
   "source": [
    "### Before we apply our model (XGBClassifier), we would have to convert all the categorical columns into numerical figures."
   ]
  },
  {
   "cell_type": "code",
   "execution_count": 4,
   "id": "cf9dee25",
   "metadata": {
    "execution": {
     "iopub.execute_input": "2023-07-04T08:22:08.532245Z",
     "iopub.status.busy": "2023-07-04T08:22:08.531846Z",
     "iopub.status.idle": "2023-07-04T08:22:10.811334Z",
     "shell.execute_reply": "2023-07-04T08:22:10.810374Z"
    },
    "papermill": {
     "duration": 2.293853,
     "end_time": "2023-07-04T08:22:10.813936",
     "exception": false,
     "start_time": "2023-07-04T08:22:08.520083",
     "status": "completed"
    },
    "tags": []
   },
   "outputs": [
    {
     "name": "stdout",
     "output_type": "stream",
     "text": [
      "[[ 717   48]\n",
      " [  44 2315]]\n"
     ]
    }
   ],
   "source": [
    "import xgboost as xgb\n",
    "from sklearn.preprocessing import OrdinalEncoder\n",
    "from sklearn.metrics import confusion_matrix\n",
    "\n",
    "# Converting\n",
    "oe = OrdinalEncoder()\n",
    "convert_df = pd.DataFrame(oe.fit_transform(df), columns = list(df.columns))\n",
    "\n",
    "#Train test split \n",
    "train_df = convert_df.iloc[:5000]\n",
    "test_df = convert_df.iloc[5000:]\n",
    "\n",
    "model = xgb.XGBClassifier()\n",
    "\n",
    "y = 'class'\n",
    "X = list(df.columns[1:])\n",
    "\n",
    "# Model fitting and predicting\n",
    "model.fit(train_df[X], train_df[y])\n",
    "pred = model.predict(test_df[X])\n",
    "\n",
    "# Confusion Matrix\n",
    "cm = confusion_matrix(test_df[y], pred)\n",
    "print(cm)"
   ]
  },
  {
   "cell_type": "markdown",
   "id": "38374189",
   "metadata": {
    "papermill": {
     "duration": 0.009905,
     "end_time": "2023-07-04T08:22:10.834867",
     "exception": false,
     "start_time": "2023-07-04T08:22:10.824962",
     "status": "completed"
    },
    "tags": []
   },
   "source": [
    "### With the help of matplotlib, we can easily plot a more beautiful visualization to show the confusion matrix."
   ]
  },
  {
   "cell_type": "code",
   "execution_count": 5,
   "id": "55a42b26",
   "metadata": {
    "execution": {
     "iopub.execute_input": "2023-07-04T08:22:10.859026Z",
     "iopub.status.busy": "2023-07-04T08:22:10.857733Z",
     "iopub.status.idle": "2023-07-04T08:22:11.173008Z",
     "shell.execute_reply": "2023-07-04T08:22:11.171805Z"
    },
    "papermill": {
     "duration": 0.330588,
     "end_time": "2023-07-04T08:22:11.175782",
     "exception": false,
     "start_time": "2023-07-04T08:22:10.845194",
     "status": "completed"
    },
    "tags": []
   },
   "outputs": [
    {
     "data": {
      "image/png": "[encoded data removed]",
      "text/plain": [
       "<Figure size 640x480 with 2 Axes>"
      ]
     },
     "metadata": {},
     "output_type": "display_data"
    }
   ],
   "source": [
    "import matplotlib.pyplot as plt\n",
    "from sklearn import metrics\n",
    "\n",
    "cm_display = metrics.ConfusionMatrixDisplay(confusion_matrix = cm, display_labels = [False, True])\n",
    "cm_display.plot()\n",
    "plt.show()"
   ]
  },
  {
   "cell_type": "markdown",
   "id": "48411662",
   "metadata": {
    "papermill": {
     "duration": 0.010556,
     "end_time": "2023-07-04T08:22:11.196845",
     "exception": false,
     "start_time": "2023-07-04T08:22:11.186289",
     "status": "completed"
    },
    "tags": []
   },
   "source": [
    "### As we can see, it shows us the values for the 4 boxes.\n",
    "### For our model, we see that it has pretty stellar performance. \n",
    "### However, it still came up with a few False Negative and False Positive observations. \n",
    "### Now, let us check the AUC score for this model."
   ]
  },
  {
   "cell_type": "code",
   "execution_count": 6,
   "id": "181ddabb",
   "metadata": {
    "execution": {
     "iopub.execute_input": "2023-07-04T08:22:11.221092Z",
     "iopub.status.busy": "2023-07-04T08:22:11.220233Z",
     "iopub.status.idle": "2023-07-04T08:22:11.255659Z",
     "shell.execute_reply": "2023-07-04T08:22:11.254453Z"
    },
    "papermill": {
     "duration": 0.050295,
     "end_time": "2023-07-04T08:22:11.258277",
     "exception": false,
     "start_time": "2023-07-04T08:22:11.207982",
     "status": "completed"
    },
    "tags": []
   },
   "outputs": [
    {
     "name": "stdout",
     "output_type": "stream",
     "text": [
      "The score is: 0.983\n"
     ]
    }
   ],
   "source": [
    "from sklearn.metrics import roc_auc_score\n",
    "\n",
    "score = roc_auc_score(test_df[y], model.predict_proba(test_df[X])[:, 1])\n",
    "\n",
    "print(f\"The score is: {score:.3f}\")"
   ]
  },
  {
   "cell_type": "markdown",
   "id": "31b7c26a",
   "metadata": {
    "papermill": {
     "duration": 0.010526,
     "end_time": "2023-07-04T08:22:11.279756",
     "exception": false,
     "start_time": "2023-07-04T08:22:11.269230",
     "status": "completed"
    },
    "tags": []
   },
   "source": [
    "### Given the simple nature of this dataset and the robust performance of the XGBClassifier model, it is not surprising that the score is extremely high, almost close to 0.99 which is very impressive. \n",
    "### This explains the lack of observations for the False observations. "
   ]
  },
  {
   "cell_type": "markdown",
   "id": "61eaa892",
   "metadata": {
    "papermill": {
     "duration": 0.010804,
     "end_time": "2023-07-04T08:22:11.301437",
     "exception": false,
     "start_time": "2023-07-04T08:22:11.290633",
     "status": "completed"
    },
    "tags": []
   },
   "source": [
    "<div style=\"display:fill;\n",
    "           border-radius:5px;\n",
    "           background-color: lightblue;\n",
    "           font-size:110%;\n",
    "           font-family:Verdana;\n",
    "           letter-spacing:0.5px\">\n",
    "\n",
    "<p style=\"padding: 10px;\n",
    "              color:black;\n",
    "          text-align: center;\n",
    "          font-size:20px;\">\n",
    "    <b>Conclusion</b>\n",
    "</p>\n",
    "</div>"
   ]
  },
  {
   "cell_type": "markdown",
   "id": "22cd1095",
   "metadata": {
    "papermill": {
     "duration": 0.010435,
     "end_time": "2023-07-04T08:22:11.322618",
     "exception": false,
     "start_time": "2023-07-04T08:22:11.312183",
     "status": "completed"
    },
    "tags": []
   },
   "source": [
    "### Hopefully you got the whole idea of this confusion matrix. \n",
    "### It is definitely an fundamental tool to understand.\n",
    "### Make sure to understand the other ideas such as Recall and Precision too. \n",
    "### If you enjoyed this, an upvote would go a long way! \n",
    "### Cheers and see you in the next one! "
   ]
  },
  {
   "cell_type": "code",
   "execution_count": null,
   "id": "e32d0c68",
   "metadata": {
    "papermill": {
     "duration": 0.010421,
     "end_time": "2023-07-04T08:22:11.343854",
     "exception": false,
     "start_time": "2023-07-04T08:22:11.333433",
     "status": "completed"
    },
    "tags": []
   },
   "outputs": [],
   "source": []
  }
 ],
 "metadata": {
  "kernelspec": {
   "display_name": "Python 3",
   "language": "python",
   "name": "python3"
  },
  "language_info": {
   "codemirror_mode": {
    "name": "ipython",
    "version": 3
   },
   "file_extension": ".py",
   "mimetype": "text/x-python",
   "name": "python",
   "nbconvert_exporter": "python",
   "pygments_lexer": "ipython3",
   "version": "3.10.10"
  },
  "papermill": {
   "default_parameters": {},
   "duration": 18.496112,
   "end_time": "2023-07-04T08:22:12.383763",
   "environment_variables": {},
   "exception": null,
   "input_path": "__notebook__.ipynb",
   "output_path": "__notebook__.ipynb",
   "parameters": {},
   "start_time": "2023-07-04T08:21:53.887651",
   "version": "2.4.0"
  }
 },
 "nbformat": 4,
 "nbformat_minor": 5
}
