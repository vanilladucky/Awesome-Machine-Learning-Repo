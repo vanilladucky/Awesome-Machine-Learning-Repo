{
 "cells": [
  {
   "cell_type": "markdown",
   "id": "505c247f",
   "metadata": {
    "papermill": {
     "duration": 0.009547,
     "end_time": "2023-07-07T11:58:30.716239",
     "exception": false,
     "start_time": "2023-07-07T11:58:30.706692",
     "status": "completed"
    },
    "tags": []
   },
   "source": [
    "# Welcome to All About Regularization 👍"
   ]
  },
  {
   "cell_type": "markdown",
   "id": "cf8fccc3",
   "metadata": {
    "papermill": {
     "duration": 0.006866,
     "end_time": "2023-07-07T11:58:30.731180",
     "exception": false,
     "start_time": "2023-07-07T11:58:30.724314",
     "status": "completed"
    },
    "tags": []
   },
   "source": [
    "<div style=\"display:fill;\n",
    "           border-radius:5px;\n",
    "           background-color: lightblue;\n",
    "           font-size:110%;\n",
    "           font-family:Verdana;\n",
    "           letter-spacing:0.5px\">\n",
    "\n",
    "<p style=\"padding: 10px;\n",
    "              color:black;\">\n",
    "    Welcome back! If you are new here, I'm currently a computer science student, an avid number nerd, an aspiring researcher who publishes <a href=\"https://www.kaggle.com/code/kimmik123/all-about-linear-regression\">notebooks on certain topics</a> that I hope can guide and inspire beginners throughout their journey in Kaggle and beyond. \n",
    "</p>\n",
    "</div>"
   ]
  },
  {
   "cell_type": "markdown",
   "id": "0658c909",
   "metadata": {
    "papermill": {
     "duration": 0.007294,
     "end_time": "2023-07-07T11:58:30.745576",
     "exception": false,
     "start_time": "2023-07-07T11:58:30.738282",
     "status": "completed"
    },
    "tags": []
   },
   "source": [
    "### For today's notebook, I want to talk about regularization. \n",
    "### Machine Learning and AI in general can be thought of as a machine learning from a set number of examples provided by the dataset. \n",
    "### One error that can happen from this is that our algorithm will learn the specifics of the dataset instead of the general meaning/theme of the data. \n",
    "### This is where regularization techinque comes into play. "
   ]
  },
  {
   "cell_type": "markdown",
   "id": "0e009f54",
   "metadata": {
    "papermill": {
     "duration": 0.007575,
     "end_time": "2023-07-07T11:58:30.761203",
     "exception": false,
     "start_time": "2023-07-07T11:58:30.753628",
     "status": "completed"
    },
    "tags": []
   },
   "source": [
    "<div style=\"display:fill;\n",
    "           border-radius:5px;\n",
    "           background-color: lightblue;\n",
    "           font-size:110%;\n",
    "           font-family:Verdana;\n",
    "           letter-spacing:0.5px\">\n",
    "\n",
    "<p style=\"padding: 10px;\n",
    "              color:black;\n",
    "          text-align: center;\n",
    "          font-size:20px;\">\n",
    "    <b>What is it?</b>\n",
    "</p>\n",
    "</div>"
   ]
  },
  {
   "cell_type": "markdown",
   "id": "b5690181",
   "metadata": {
    "papermill": {
     "duration": 0.008305,
     "end_time": "2023-07-07T11:58:30.778043",
     "exception": false,
     "start_time": "2023-07-07T11:58:30.769738",
     "status": "completed"
    },
    "tags": []
   },
   "source": [
    "### To fully understand regularization, we need to take a few steps back to the fundamental idea of **bias** and **variance**. \n",
    "### Simply put, bias is a measure of how accurately the model fits to the dataset. \n",
    "### While variance is a measure of the variance of the performance when fitted to different datasets. \n",
    "### Now usually, when the model's bias decreases, the variance can be seen to increase. \n",
    "### This happens when we use a more complex model, for instance from linear regression to a neural network. \n",
    "### However, when this happens, the variance would increase if there are no regularization practices in place. "
   ]
  },
  {
   "cell_type": "markdown",
   "id": "76f8b92d",
   "metadata": {
    "papermill": {
     "duration": 0.008314,
     "end_time": "2023-07-07T11:58:30.795214",
     "exception": false,
     "start_time": "2023-07-07T11:58:30.786900",
     "status": "completed"
    },
    "tags": []
   },
   "source": [
    "### So when we say we have to implement regularization, we are saying that we need to lower the variance of our model's performance. \n",
    "### Without such regularization, our model would experience something called **overfitting**. \n",
    "### Overfitting is dangerous as it can give a false sense of assurance that our model is performing extremely well. \n",
    "### This is why practioners would utilize a training and testing dataset. "
   ]
  },
  {
   "cell_type": "markdown",
   "id": "0abb8d84",
   "metadata": {
    "papermill": {
     "duration": 0.008236,
     "end_time": "2023-07-07T11:58:30.811933",
     "exception": false,
     "start_time": "2023-07-07T11:58:30.803697",
     "status": "completed"
    },
    "tags": []
   },
   "source": [
    "### First, we fit our model using the training dataset. \n",
    "### Afterwards, we test to check our model's performance on the testing dataset. \n",
    "### By doing so, we expose our model to a dataset it hasn't been trained on. \n",
    "### If we see that the training performance is getting better but the testing performance is worsening, we know that this is a symptom of overfitting. "
   ]
  },
  {
   "cell_type": "markdown",
   "id": "1a675557",
   "metadata": {
    "execution": {
     "iopub.execute_input": "2023-07-07T04:06:44.439855Z",
     "iopub.status.busy": "2023-07-07T04:06:44.436985Z",
     "iopub.status.idle": "2023-07-07T04:06:44.461337Z",
     "shell.execute_reply": "2023-07-07T04:06:44.458855Z",
     "shell.execute_reply.started": "2023-07-07T04:06:44.439727Z"
    },
    "papermill": {
     "duration": 0.007187,
     "end_time": "2023-07-07T11:58:30.827347",
     "exception": false,
     "start_time": "2023-07-07T11:58:30.820160",
     "status": "completed"
    },
    "tags": []
   },
   "source": [
    "<div style=\"display:fill;\n",
    "           border-radius:5px;\n",
    "           background-color: lightblue;\n",
    "           font-size:110%;\n",
    "           font-family:Verdana;\n",
    "           letter-spacing:0.5px\">\n",
    "\n",
    "<p style=\"padding: 10px;\n",
    "              color:black;\n",
    "          text-align: center;\n",
    "          font-size:20px;\">\n",
    "    <b>Regularization Techniques</b>\n",
    "</p>\n",
    "</div>"
   ]
  },
  {
   "cell_type": "markdown",
   "id": "8e226f75",
   "metadata": {
    "papermill": {
     "duration": 0.006931,
     "end_time": "2023-07-07T11:58:30.841782",
     "exception": false,
     "start_time": "2023-07-07T11:58:30.834851",
     "status": "completed"
    },
    "tags": []
   },
   "source": [
    "### So let me show you some techniques that we have for regularization. \n",
    "### First of them is the train test split package from sklearn. "
   ]
  },
  {
   "cell_type": "code",
   "execution_count": 1,
   "id": "b2b04abb",
   "metadata": {
    "_kg_hide-input": true,
    "execution": {
     "iopub.execute_input": "2023-07-07T11:58:30.858949Z",
     "iopub.status.busy": "2023-07-07T11:58:30.858176Z",
     "iopub.status.idle": "2023-07-07T11:58:32.110912Z",
     "shell.execute_reply": "2023-07-07T11:58:32.110059Z"
    },
    "papermill": {
     "duration": 1.264342,
     "end_time": "2023-07-07T11:58:32.113513",
     "exception": false,
     "start_time": "2023-07-07T11:58:30.849171",
     "status": "completed"
    },
    "tags": []
   },
   "outputs": [],
   "source": [
    "import numpy as np\n",
    "import pandas as pd\n",
    "from sklearn.model_selection import train_test_split\n",
    "\n",
    "df = pd.read_csv('/kaggle/input/breast-cancer/Breast_Cancer.csv')"
   ]
  },
  {
   "cell_type": "code",
   "execution_count": 2,
   "id": "b9dee9dc",
   "metadata": {
    "execution": {
     "iopub.execute_input": "2023-07-07T11:58:32.129530Z",
     "iopub.status.busy": "2023-07-07T11:58:32.129247Z",
     "iopub.status.idle": "2023-07-07T11:58:32.167804Z",
     "shell.execute_reply": "2023-07-07T11:58:32.166395Z"
    },
    "papermill": {
     "duration": 0.048691,
     "end_time": "2023-07-07T11:58:32.169779",
     "exception": false,
     "start_time": "2023-07-07T11:58:32.121088",
     "status": "completed"
    },
    "tags": []
   },
   "outputs": [
    {
     "name": "stdout",
     "output_type": "stream",
     "text": [
      "<class 'pandas.core.frame.DataFrame'>\n",
      "RangeIndex: 4024 entries, 0 to 4023\n",
      "Data columns (total 16 columns):\n",
      " #   Column                  Non-Null Count  Dtype \n",
      "---  ------                  --------------  ----- \n",
      " 0   Age                     4024 non-null   int64 \n",
      " 1   Race                    4024 non-null   object\n",
      " 2   Marital Status          4024 non-null   object\n",
      " 3   T Stage                 4024 non-null   object\n",
      " 4   N Stage                 4024 non-null   object\n",
      " 5   6th Stage               4024 non-null   object\n",
      " 6   differentiate           4024 non-null   object\n",
      " 7   Grade                   4024 non-null   object\n",
      " 8   A Stage                 4024 non-null   object\n",
      " 9   Tumor Size              4024 non-null   int64 \n",
      " 10  Estrogen Status         4024 non-null   object\n",
      " 11  Progesterone Status     4024 non-null   object\n",
      " 12  Regional Node Examined  4024 non-null   int64 \n",
      " 13  Reginol Node Positive   4024 non-null   int64 \n",
      " 14  Survival Months         4024 non-null   int64 \n",
      " 15  Status                  4024 non-null   object\n",
      "dtypes: int64(5), object(11)\n",
      "memory usage: 503.1+ KB\n"
     ]
    }
   ],
   "source": [
    "df.info()"
   ]
  },
  {
   "cell_type": "code",
   "execution_count": 3,
   "id": "3f7a1689",
   "metadata": {
    "execution": {
     "iopub.execute_input": "2023-07-07T11:58:32.185746Z",
     "iopub.status.busy": "2023-07-07T11:58:32.185494Z",
     "iopub.status.idle": "2023-07-07T11:58:32.196372Z",
     "shell.execute_reply": "2023-07-07T11:58:32.195509Z"
    },
    "papermill": {
     "duration": 0.021292,
     "end_time": "2023-07-07T11:58:32.198528",
     "exception": false,
     "start_time": "2023-07-07T11:58:32.177236",
     "status": "completed"
    },
    "tags": []
   },
   "outputs": [
    {
     "name": "stdout",
     "output_type": "stream",
     "text": [
      "We have 2696 number of training data and 1328 number of testing data\n"
     ]
    }
   ],
   "source": [
    "columns = list(df.columns)\n",
    "\n",
    "X = df[columns[:-1]]\n",
    "y = df['Status']\n",
    "\n",
    "X_train, X_test, y_train, y_test = train_test_split(X, y, test_size=0.33, random_state=42)\n",
    "print(f\"We have {len(X_train)} number of training data and {len(X_test)} number of testing data\")"
   ]
  },
  {
   "cell_type": "markdown",
   "id": "bb1eb8b1",
   "metadata": {
    "papermill": {
     "duration": 0.007236,
     "end_time": "2023-07-07T11:58:32.213746",
     "exception": false,
     "start_time": "2023-07-07T11:58:32.206510",
     "status": "completed"
    },
    "tags": []
   },
   "source": [
    "### As we can see, we have a set of training data and a smaller set of testing data to fully test our model's performance. "
   ]
  },
  {
   "cell_type": "markdown",
   "id": "faf2f9df",
   "metadata": {
    "papermill": {
     "duration": 0.00751,
     "end_time": "2023-07-07T11:58:32.228759",
     "exception": false,
     "start_time": "2023-07-07T11:58:32.221249",
     "status": "completed"
    },
    "tags": []
   },
   "source": [
    "### This is a very simple and a given method to perform before any machine learning task. \n",
    "### However, for the majority of this notebook, I wish to talk about a more complex method to undertake the problem of overfitting. \n",
    "### They are known as the L1 and L2 regularization methods. "
   ]
  },
  {
   "cell_type": "markdown",
   "id": "7d296836",
   "metadata": {
    "papermill": {
     "duration": 0.007328,
     "end_time": "2023-07-07T11:58:32.244067",
     "exception": false,
     "start_time": "2023-07-07T11:58:32.236739",
     "status": "completed"
    },
    "tags": []
   },
   "source": [
    "<div style=\"display:fill;\n",
    "           border-radius:5px;\n",
    "           background-color: lightblue;\n",
    "           font-size:110%;\n",
    "           font-family:Verdana;\n",
    "           letter-spacing:0.5px\">\n",
    "\n",
    "<p style=\"padding: 10px;\n",
    "              color:black;\n",
    "          text-align: center;\n",
    "          font-size:20px;\">\n",
    "    <b>L1 and L2 regularization</b>\n",
    "</p>\n",
    "</div>"
   ]
  },
  {
   "cell_type": "markdown",
   "id": "b4871331",
   "metadata": {
    "papermill": {
     "duration": 0.007157,
     "end_time": "2023-07-07T11:58:32.258526",
     "exception": false,
     "start_time": "2023-07-07T11:58:32.251369",
     "status": "completed"
    },
    "tags": []
   },
   "source": [
    "### When it comes to regularization techniques, L1 and L2 regularization often comes into everyone's mind. \n",
    "### Let me explain what these two techniques do. "
   ]
  },
  {
   "cell_type": "markdown",
   "id": "aca4e079",
   "metadata": {
    "papermill": {
     "duration": 0.00708,
     "end_time": "2023-07-07T11:58:32.272940",
     "exception": false,
     "start_time": "2023-07-07T11:58:32.265860",
     "status": "completed"
    },
    "tags": []
   },
   "source": [
    "### Firstly, L1 regularization is known as the **Lasso Regularization**. \n",
    "### The formula is as follows."
   ]
  },
  {
   "cell_type": "markdown",
   "id": "13e1ff3f",
   "metadata": {
    "papermill": {
     "duration": 0.007715,
     "end_time": "2023-07-07T11:58:32.288327",
     "exception": false,
     "start_time": "2023-07-07T11:58:32.280612",
     "status": "completed"
    },
    "tags": []
   },
   "source": [
    "$$\\LARGE min_{w^{(i)}}[ \\lambda \\cdot \\sum_{i=1}^{N} |w^{i}| + \\frac{1}{N} \\cdot \\sum_{i=1}^{N}(f(x_{i}) - y)^2]$$"
   ]
  },
  {
   "cell_type": "markdown",
   "id": "40ca12f5",
   "metadata": {
    "papermill": {
     "duration": 0.007183,
     "end_time": "2023-07-07T11:58:32.303131",
     "exception": false,
     "start_time": "2023-07-07T11:58:32.295948",
     "status": "completed"
    },
    "tags": []
   },
   "source": [
    "### L1 regularization adds a penalty on the sum of the absolute values of the model weights.\n",
    "### The lambda is a hyperparameter for this technique. \n",
    "### The greater the lambda value, the stronger it would curb overfitting. \n",
    "### However, too high a value could result in the model underfitting, which is the problem where the model is not able to learn the patterns from the data. "
   ]
  },
  {
   "cell_type": "markdown",
   "id": "a7178a2f",
   "metadata": {
    "papermill": {
     "duration": 0.007444,
     "end_time": "2023-07-07T11:58:32.318079",
     "exception": false,
     "start_time": "2023-07-07T11:58:32.310635",
     "status": "completed"
    },
    "tags": []
   },
   "source": [
    "### L1 regularization tends to result in weights that are not contributing to the model will be zeroed. \n",
    "### This makes this technique especially useful for feature selection and for sparse models, which is where most parameters are of value zero. \n",
    "### You can understand it as the technique helping to keep only the relevant weights as non-relevant weights would only increase the loss value. "
   ]
  },
  {
   "cell_type": "markdown",
   "id": "99aeab46",
   "metadata": {
    "papermill": {
     "duration": 0.007256,
     "end_time": "2023-07-07T11:58:32.332932",
     "exception": false,
     "start_time": "2023-07-07T11:58:32.325676",
     "status": "completed"
    },
    "tags": []
   },
   "source": [
    "### The L2 regularization is known as the **Ridge Regularization**.\n",
    "### The formula is as follows. "
   ]
  },
  {
   "cell_type": "markdown",
   "id": "1842d2e6",
   "metadata": {
    "papermill": {
     "duration": 0.007323,
     "end_time": "2023-07-07T11:58:32.347561",
     "exception": false,
     "start_time": "2023-07-07T11:58:32.340238",
     "status": "completed"
    },
    "tags": []
   },
   "source": [
    "$$\\LARGE min_{w^{(i)}}[ \\lambda \\cdot (\\sum_{i=1}^{N} |w^{i}|)^{2} + \\frac{1}{N} \\cdot \\sum_{i=1}^{N}(f(x_{i}) - y)^2]$$"
   ]
  },
  {
   "cell_type": "markdown",
   "id": "6c0ab20b",
   "metadata": {
    "papermill": {
     "duration": 0.007037,
     "end_time": "2023-07-07T11:58:32.361958",
     "exception": false,
     "start_time": "2023-07-07T11:58:32.354921",
     "status": "completed"
    },
    "tags": []
   },
   "source": [
    "### With this technique, larger weights are reduced but not zeroed. \n",
    "### This is very useful when you know the features are highly correlated as it keeps them in the game but evenly spreads out the distribution of these weights. \n",
    "### Also, it is helpful when our data is noisy."
   ]
  },
  {
   "cell_type": "markdown",
   "id": "063b4ba9",
   "metadata": {
    "papermill": {
     "duration": 0.007328,
     "end_time": "2023-07-07T11:58:32.376858",
     "exception": false,
     "start_time": "2023-07-07T11:58:32.369530",
     "status": "completed"
    },
    "tags": []
   },
   "source": [
    "<div style=\"display:fill;\n",
    "           border-radius:5px;\n",
    "           background-color: lightblue;\n",
    "           font-size:110%;\n",
    "           font-family:Verdana;\n",
    "           letter-spacing:0.5px\">\n",
    "\n",
    "<p style=\"padding: 10px;\n",
    "              color:black;\n",
    "          text-align: center;\n",
    "          font-size:20px;\">\n",
    "    <b>Example</b>\n",
    "</p>\n",
    "</div>"
   ]
  },
  {
   "cell_type": "markdown",
   "id": "e66fb53f",
   "metadata": {
    "papermill": {
     "duration": 0.007323,
     "end_time": "2023-07-07T11:58:32.391788",
     "exception": false,
     "start_time": "2023-07-07T11:58:32.384465",
     "status": "completed"
    },
    "tags": []
   },
   "source": [
    "### Now let us put all of these into a working classification example. \n",
    "### I will show you how regularized logistic regression works in this case and showcase some visualization so you can see the effect of these regularization."
   ]
  },
  {
   "cell_type": "code",
   "execution_count": 4,
   "id": "fbb86998",
   "metadata": {
    "_kg_hide-input": true,
    "execution": {
     "iopub.execute_input": "2023-07-07T11:58:32.408604Z",
     "iopub.status.busy": "2023-07-07T11:58:32.408251Z",
     "iopub.status.idle": "2023-07-07T11:58:32.518796Z",
     "shell.execute_reply": "2023-07-07T11:58:32.517926Z"
    },
    "papermill": {
     "duration": 0.121628,
     "end_time": "2023-07-07T11:58:32.520938",
     "exception": false,
     "start_time": "2023-07-07T11:58:32.399310",
     "status": "completed"
    },
    "tags": []
   },
   "outputs": [],
   "source": [
    "import matplotlib.pyplot as plt\n",
    "from sklearn.linear_model import LogisticRegression\n",
    "from sklearn.metrics import accuracy_score   \n",
    "from sklearn import preprocessing\n",
    "from sklearn.preprocessing import StandardScaler\n",
    "\n",
    "le = preprocessing.LabelEncoder()\n",
    "for col in list(df.select_dtypes(include=[\"object\"]).columns): # Label Encoding for Logistic Regression model \n",
    "    df[col] = le.fit_transform(df[col])\n",
    "    \n",
    "ss = StandardScaler()\n",
    "columns = list(df.columns)\n",
    "\n",
    "y = df['Status']\n",
    "\n",
    "df = ss.fit_transform(df)\n",
    "df = pd.DataFrame(df, columns = columns)\n",
    "\n",
    "X = df[columns[:-1]]"
   ]
  },
  {
   "cell_type": "code",
   "execution_count": 5,
   "id": "2d3e9685",
   "metadata": {
    "execution": {
     "iopub.execute_input": "2023-07-07T11:58:32.537297Z",
     "iopub.status.busy": "2023-07-07T11:58:32.537039Z",
     "iopub.status.idle": "2023-07-07T11:58:32.547298Z",
     "shell.execute_reply": "2023-07-07T11:58:32.546586Z"
    },
    "papermill": {
     "duration": 0.020598,
     "end_time": "2023-07-07T11:58:32.549175",
     "exception": false,
     "start_time": "2023-07-07T11:58:32.528577",
     "status": "completed"
    },
    "tags": []
   },
   "outputs": [],
   "source": [
    "def visualize(X=X, y=y, reg='l1'):\n",
    "    X_train, X_test, y_train, y_test = train_test_split(X, y, test_size=0.33, random_state=42)\n",
    "    coefs = []\n",
    "    train_scores = []\n",
    "    test_scores = []\n",
    "    C_arr = [0.001, 0.01, 0.1, 1, 10, 100, 1000]\n",
    "    # Fitting and scoring\n",
    "    for c in C_arr:\n",
    "        model = LogisticRegression(penalty=reg, solver='liblinear', C = c).fit(X_train,y_train)\n",
    "        train_scores.append(model.score(X_train, y_train))\n",
    "        test_scores.append(model.score(X_test, y_test))\n",
    "        coefs.append(model.coef_.ravel())\n",
    "        \n",
    "    # Plotting for the scores\n",
    "    fig, (ax1, ax2) = plt.subplots(ncols=2, figsize=(12, 4))\n",
    "    ax1.plot(C_arr, train_scores, 'b-o', label='Training Set')\n",
    "    ax1.plot(C_arr, test_scores, 'r-o', label='Test Set')\n",
    "    plt.suptitle(f'{reg} regularization')\n",
    "    ax1.set_xlabel('C')\n",
    "    ax1.set_ylabel('Accuracy')\n",
    "    ax1.set_xscale('log')\n",
    "    ax1.set_title('Performance')\n",
    "    ax1.legend()\n",
    "    \n",
    "    # Plotting the coefficients\n",
    "    coefs = np.array(coefs)\n",
    "    n_params = coefs.shape[1]\n",
    "    for i in range(n_params):\n",
    "        ax2.plot(C_arr, coefs[:, i], label=X.columns[i])\n",
    "    #ax2.axhline(y=0, linestyle='--', color='black', linewidth=2)\n",
    "    ax2.set_xlabel('C')\n",
    "    ax2.set_ylabel('Coefficient values')\n",
    "    ax2.set_xscale('log')\n",
    "    ax2.set_title('Coefficients')\n",
    "    plt.show()"
   ]
  },
  {
   "cell_type": "code",
   "execution_count": 6,
   "id": "078ae024",
   "metadata": {
    "_kg_hide-input": true,
    "execution": {
     "iopub.execute_input": "2023-07-07T11:58:32.565307Z",
     "iopub.status.busy": "2023-07-07T11:58:32.565048Z",
     "iopub.status.idle": "2023-07-07T11:58:34.079884Z",
     "shell.execute_reply": "2023-07-07T11:58:34.078930Z"
    },
    "jupyter": {
     "source_hidden": true
    },
    "papermill": {
     "duration": 1.52523,
     "end_time": "2023-07-07T11:58:34.081920",
     "exception": false,
     "start_time": "2023-07-07T11:58:32.556690",
     "status": "completed"
    },
    "tags": []
   },
   "outputs": [
    {
     "data": {
      "image/png": "[encoded data removed]",
      "text/plain": [
       "<Figure size 1200x400 with 2 Axes>"
      ]
     },
     "metadata": {},
     "output_type": "display_data"
    }
   ],
   "source": [
    "visualize(reg='l1')"
   ]
  },
  {
   "cell_type": "code",
   "execution_count": 7,
   "id": "eb0102f4",
   "metadata": {
    "_kg_hide-input": true,
    "execution": {
     "iopub.execute_input": "2023-07-07T11:58:34.100896Z",
     "iopub.status.busy": "2023-07-07T11:58:34.100561Z",
     "iopub.status.idle": "2023-07-07T11:58:35.608786Z",
     "shell.execute_reply": "2023-07-07T11:58:35.607772Z"
    },
    "jupyter": {
     "source_hidden": true
    },
    "papermill": {
     "duration": 1.520466,
     "end_time": "2023-07-07T11:58:35.611103",
     "exception": false,
     "start_time": "2023-07-07T11:58:34.090637",
     "status": "completed"
    },
    "tags": []
   },
   "outputs": [
    {
     "data": {
      "image/png": "[encoded data removed]",
      "text/plain": [
       "<Figure size 1200x400 with 2 Axes>"
      ]
     },
     "metadata": {},
     "output_type": "display_data"
    }
   ],
   "source": [
    "visualize(reg='l2')"
   ]
  },
  {
   "cell_type": "markdown",
   "id": "3db4ca24",
   "metadata": {
    "papermill": {
     "duration": 0.009511,
     "end_time": "2023-07-07T11:58:35.630831",
     "exception": false,
     "start_time": "2023-07-07T11:58:35.621320",
     "status": "completed"
    },
    "tags": []
   },
   "source": [
    "### As we can see, our model performs superb, even better than I thought. \n",
    "### There is no sign of overfitting as our training score doesn't surpass that of the test score. \n",
    "### The one thing we can observe is how the model's parameters/coefficients remains diversified when using L2 regularization. \n",
    "### This is just as we expected. \n",
    "### Meanwhile, when using L1 regularization, our coefficients are drastically changed, either increased or reduced. "
   ]
  },
  {
   "cell_type": "markdown",
   "id": "468beb95",
   "metadata": {
    "papermill": {
     "duration": 0.008983,
     "end_time": "2023-07-07T11:58:35.649146",
     "exception": false,
     "start_time": "2023-07-07T11:58:35.640163",
     "status": "completed"
    },
    "tags": []
   },
   "source": [
    "<div style=\"display:fill;\n",
    "           border-radius:5px;\n",
    "           background-color: lightblue;\n",
    "           font-size:110%;\n",
    "           font-family:Verdana;\n",
    "           letter-spacing:0.5px\">\n",
    "\n",
    "<p style=\"padding: 10px;\n",
    "              color:black;\n",
    "          text-align: center;\n",
    "          font-size:20px;\">\n",
    "    <b>Conclusion</b>\n",
    "</p>\n",
    "</div>"
   ]
  },
  {
   "cell_type": "markdown",
   "id": "d4e95651",
   "metadata": {
    "papermill": {
     "duration": 0.009146,
     "end_time": "2023-07-07T11:58:35.667517",
     "exception": false,
     "start_time": "2023-07-07T11:58:35.658371",
     "status": "completed"
    },
    "tags": []
   },
   "source": [
    "### As we observed from the above example, regularization can be of immense help, especially when our model becomes more complicated and datasets becomes larger. \n",
    "### To prevent overfitting is one of the most important tasks for any machine learning problems. \n",
    "### Overfitting to a certain dataset can result in awful performance on the test dataset, or worse, when put to real life applications. \n",
    "### I hope you took away some lessons as to how regularization works and how and when to use them. \n",
    "### See you in the next one!"
   ]
  },
  {
   "cell_type": "markdown",
   "id": "5ebcb356",
   "metadata": {
    "papermill": {
     "duration": 0.009436,
     "end_time": "2023-07-07T11:58:35.686225",
     "exception": false,
     "start_time": "2023-07-07T11:58:35.676789",
     "status": "completed"
    },
    "tags": []
   },
   "source": [
    "<div style=\"display:fill;\n",
    "           border-radius:5px;\n",
    "           background-color: lightblue;\n",
    "           font-size:110%;\n",
    "           font-family:Verdana;\n",
    "           letter-spacing:0.5px\">\n",
    "\n",
    "<p style=\"padding: 10px;\n",
    "              color:black;\n",
    "          text-align: center;\n",
    "          font-size:20px;\">\n",
    "    <b>Credits</b>\n",
    "</p>\n",
    "</div>"
   ]
  },
  {
   "cell_type": "markdown",
   "id": "ba377010",
   "metadata": {
    "papermill": {
     "duration": 0.00899,
     "end_time": "2023-07-07T11:58:35.705884",
     "exception": false,
     "start_time": "2023-07-07T11:58:35.696894",
     "status": "completed"
    },
    "tags": []
   },
   "source": [
    "* https://towardsdatascience.com/l1-vs-l2-regularization-in-machine-learning-differences-advantages-and-how-to-apply-them-in-72eb12f102b5"
   ]
  }
 ],
 "metadata": {
  "kernelspec": {
   "display_name": "Python 3",
   "language": "python",
   "name": "python3"
  },
  "language_info": {
   "codemirror_mode": {
    "name": "ipython",
    "version": 3
   },
   "file_extension": ".py",
   "mimetype": "text/x-python",
   "name": "python",
   "nbconvert_exporter": "python",
   "pygments_lexer": "ipython3",
   "version": "3.10.10"
  },
  "papermill": {
   "default_parameters": {},
   "duration": 15.823572,
   "end_time": "2023-07-07T11:58:36.435587",
   "environment_variables": {},
   "exception": null,
   "input_path": "__notebook__.ipynb",
   "output_path": "__notebook__.ipynb",
   "parameters": {},
   "start_time": "2023-07-07T11:58:20.612015",
   "version": "2.4.0"
  }
 },
 "nbformat": 4,
 "nbformat_minor": 5
}
